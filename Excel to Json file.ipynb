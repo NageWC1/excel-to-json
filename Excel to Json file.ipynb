{
 "cells": [
  {
   "cell_type": "code",
   "execution_count": 2,
   "id": "1e7de2c1",
   "metadata": {},
   "outputs": [],
   "source": [
    "import pandas as pd\n",
    "import numpy as np"
   ]
  },
  {
   "cell_type": "code",
   "execution_count": 7,
   "id": "f68e6a9f",
   "metadata": {},
   "outputs": [
    {
     "data": {
      "text/html": [
       "<div>\n",
       "<style scoped>\n",
       "    .dataframe tbody tr th:only-of-type {\n",
       "        vertical-align: middle;\n",
       "    }\n",
       "\n",
       "    .dataframe tbody tr th {\n",
       "        vertical-align: top;\n",
       "    }\n",
       "\n",
       "    .dataframe thead th {\n",
       "        text-align: right;\n",
       "    }\n",
       "</style>\n",
       "<table border=\"1\" class=\"dataframe\">\n",
       "  <thead>\n",
       "    <tr style=\"text-align: right;\">\n",
       "      <th></th>\n",
       "      <th>Unnamed: 0</th>\n",
       "      <th>Title of the Quote</th>\n",
       "      <th>Quote</th>\n",
       "      <th>ALT</th>\n",
       "      <th>Facebook &amp; Instagram Caption (FI Cap)</th>\n",
       "    </tr>\n",
       "  </thead>\n",
       "  <tbody>\n",
       "    <tr>\n",
       "      <th>0</th>\n",
       "      <td>1</td>\n",
       "      <td>Wisdom from the Ages</td>\n",
       "      <td>Embrace your uniqueness and bloom authentical...</td>\n",
       "      <td>Authenticity wisdom by an experienced sage</td>\n",
       "      <td>🌟 Be yourself, there's no one quite like you. ...</td>\n",
       "    </tr>\n",
       "    <tr>\n",
       "      <th>1</th>\n",
       "      <td>2</td>\n",
       "      <td>Mentor's Guiding Light</td>\n",
       "      <td>Your journey may be tough, but your spirit is...</td>\n",
       "      <td>Life advice from a wise mentor</td>\n",
       "      <td>💪 Keep going, you're stronger than you think. ...</td>\n",
       "    </tr>\n",
       "    <tr>\n",
       "      <th>2</th>\n",
       "      <td>3</td>\n",
       "      <td>Lessons of Experience</td>\n",
       "      <td>In life's classroom, mistakes are your greate...</td>\n",
       "      <td>Sage advice on learning from life</td>\n",
       "      <td>📚 Embrace your mistakes; they lead to wisdom. ...</td>\n",
       "    </tr>\n",
       "    <tr>\n",
       "      <th>3</th>\n",
       "      <td>4</td>\n",
       "      <td>Path to True Freedom</td>\n",
       "      <td>Authenticity liberates; impress no one, and y...</td>\n",
       "      <td>Advice for finding true freedom</td>\n",
       "      <td>🦋 Find freedom in being yourself, not in impre...</td>\n",
       "    </tr>\n",
       "    <tr>\n",
       "      <th>4</th>\n",
       "      <td>5</td>\n",
       "      <td>Inner Strength</td>\n",
       "      <td>Amidst disrespect, your calmness reveals your...</td>\n",
       "      <td>Wisdom on handling disrespect</td>\n",
       "      <td>😌 Stay calm, it's a sign of inner strength. #C...</td>\n",
       "    </tr>\n",
       "  </tbody>\n",
       "</table>\n",
       "</div>"
      ],
      "text/plain": [
       "   Unnamed: 0      Title of the Quote  \\\n",
       "0           1    Wisdom from the Ages   \n",
       "1           2  Mentor's Guiding Light   \n",
       "2           3   Lessons of Experience   \n",
       "3           4    Path to True Freedom   \n",
       "4           5          Inner Strength   \n",
       "\n",
       "                                               Quote  \\\n",
       "0   Embrace your uniqueness and bloom authentical...   \n",
       "1   Your journey may be tough, but your spirit is...   \n",
       "2   In life's classroom, mistakes are your greate...   \n",
       "3   Authenticity liberates; impress no one, and y...   \n",
       "4   Amidst disrespect, your calmness reveals your...   \n",
       "\n",
       "                                          ALT  \\\n",
       "0  Authenticity wisdom by an experienced sage   \n",
       "1              Life advice from a wise mentor   \n",
       "2           Sage advice on learning from life   \n",
       "3             Advice for finding true freedom   \n",
       "4               Wisdom on handling disrespect   \n",
       "\n",
       "               Facebook & Instagram Caption (FI Cap)  \n",
       "0  🌟 Be yourself, there's no one quite like you. ...  \n",
       "1  💪 Keep going, you're stronger than you think. ...  \n",
       "2  📚 Embrace your mistakes; they lead to wisdom. ...  \n",
       "3  🦋 Find freedom in being yourself, not in impre...  \n",
       "4  😌 Stay calm, it's a sign of inner strength. #C...  "
      ]
     },
     "execution_count": 7,
     "metadata": {},
     "output_type": "execute_result"
    }
   ],
   "source": [
    "data = pd.read_excel('./test excels/180 - Part 01.xlsx')\n",
    "data.head()"
   ]
  },
  {
   "cell_type": "code",
   "execution_count": 9,
   "id": "7fbd23bd",
   "metadata": {},
   "outputs": [
    {
     "ename": "SyntaxError",
     "evalue": "invalid syntax (2672401210.py, line 1)",
     "output_type": "error",
     "traceback": [
      "\u001b[1;36m  Cell \u001b[1;32mIn[9], line 1\u001b[1;36m\u001b[0m\n\u001b[1;33m    data.to_json('output.json', orient='records',, indent=2)\u001b[0m\n\u001b[1;37m                                                 ^\u001b[0m\n\u001b[1;31mSyntaxError\u001b[0m\u001b[1;31m:\u001b[0m invalid syntax\n"
     ]
    }
   ],
   "source": [
    "data.to_json('output.json', orient='records',, indent=2)"
   ]
  },
  {
   "cell_type": "code",
   "execution_count": null,
   "id": "54f445ce",
   "metadata": {},
   "outputs": [],
   "source": []
  }
 ],
 "metadata": {
  "kernelspec": {
   "display_name": "Python 3 (ipykernel)",
   "language": "python",
   "name": "python3"
  },
  "language_info": {
   "codemirror_mode": {
    "name": "ipython",
    "version": 3
   },
   "file_extension": ".py",
   "mimetype": "text/x-python",
   "name": "python",
   "nbconvert_exporter": "python",
   "pygments_lexer": "ipython3",
   "version": "3.11.5"
  }
 },
 "nbformat": 4,
 "nbformat_minor": 5
}
